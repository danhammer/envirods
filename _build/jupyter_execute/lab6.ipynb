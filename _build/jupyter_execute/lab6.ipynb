{
 "cells": [
  {
   "cell_type": "markdown",
   "id": "705ae990",
   "metadata": {},
   "source": [
    "### Lab 6: Emissions aggregations and comparisons\n",
    "\n",
    "This lab will focus exclusively on carbon emissions from the steel sector, using the following dataset:\n",
    "\n",
    "`https://raw.githubusercontent.com/danhammer/envirods/main/data/steel.geojson`\n",
    "\n",
    "1. Create a _single_ chart that shows (a) annual emissions from the steel sector in China since 2018; and (b) annual emissions from the rest of the world since 2018. (Hint: stacked bar chart is the one of the easiest ways to answer this question, given what we learned in lecture.)  Bonus if you can do this by _month_ since January 2018.\n",
    "2. What proportion of steel emissions since 2019 have come from the top 20 highest-emitting facilities in the world over that timeframe?  \n"
   ]
  }
 ],
 "metadata": {
  "kernelspec": {
   "display_name": "streamlitenv",
   "language": "python",
   "name": "streamlitenv"
  },
  "language_info": {
   "codemirror_mode": {
    "name": "ipython",
    "version": 3
   },
   "file_extension": ".py",
   "mimetype": "text/x-python",
   "name": "python",
   "nbconvert_exporter": "python",
   "pygments_lexer": "ipython3",
   "version": "3.7.6"
  }
 },
 "nbformat": 4,
 "nbformat_minor": 5
}