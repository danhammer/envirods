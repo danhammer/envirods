{
 "cells": [
  {
   "cell_type": "markdown",
   "id": "8be30fb7",
   "metadata": {},
   "source": [
    "# Week 3: Omitted variable bias and Environmental Justice\n",
    "The **objective** of this lecture is to examine how omitted variables impacts the linear regression."
   ]
  },
  {
   "cell_type": "code",
   "execution_count": 1,
   "id": "51addfb1",
   "metadata": {},
   "outputs": [
    {
     "name": "stdout",
     "output_type": "stream",
     "text": [
      "estimated slope: 2787.5294826216686\n",
      "estimated intercept: 14468.813228205814\n"
     ]
    },
    {
     "ename": "NameError",
     "evalue": "name 'plt' is not defined",
     "output_type": "error",
     "traceback": [
      "\u001b[0;31m---------------------------------------------------------------------------\u001b[0m",
      "\u001b[0;31mNameError\u001b[0m                                 Traceback (most recent call last)",
      "\u001b[0;32m<ipython-input-1-820e16ea2292>\u001b[0m in \u001b[0;36m<module>\u001b[0;34m\u001b[0m\n\u001b[1;32m     52\u001b[0m \u001b[0mprint\u001b[0m\u001b[0;34m(\u001b[0m\u001b[0;34mf\"estimated intercept: {b_estimated}\"\u001b[0m\u001b[0;34m)\u001b[0m\u001b[0;34m\u001b[0m\u001b[0;34m\u001b[0m\u001b[0m\n\u001b[1;32m     53\u001b[0m \u001b[0;34m\u001b[0m\u001b[0m\n\u001b[0;32m---> 54\u001b[0;31m \u001b[0mplt\u001b[0m\u001b[0;34m.\u001b[0m\u001b[0mxlim\u001b[0m\u001b[0;34m(\u001b[0m\u001b[0;34m[\u001b[0m\u001b[0;36m10\u001b[0m\u001b[0;34m,\u001b[0m \u001b[0;36m24\u001b[0m\u001b[0;34m]\u001b[0m\u001b[0;34m)\u001b[0m\u001b[0;34m\u001b[0m\u001b[0;34m\u001b[0m\u001b[0m\n\u001b[0m\u001b[1;32m     55\u001b[0m \u001b[0;34m\u001b[0m\u001b[0m\n\u001b[1;32m     56\u001b[0m plt.scatter(\n",
      "\u001b[0;31mNameError\u001b[0m: name 'plt' is not defined"
     ]
    }
   ],
   "source": [
    "import pandas\n",
    "import numpy\n",
    "\n",
    "# N is the number of people in the sample\n",
    "N = 1000\n",
    "\n",
    "# m is the linear slope between education and income \n",
    "# (it is the additional annual income for each year of education)\n",
    "m = 3000\n",
    "\n",
    "# b is the linear intercept\n",
    "# (it is the annual income for someone with 0 years of education)\n",
    "b = 11000\n",
    "\n",
    "dgp_df = pandas.DataFrame(\n",
    "    data = {\n",
    "        \"random_error\": numpy.random.normal(0, 10000, N),\n",
    "        \"data_science_interest\": numpy.random.uniform(-1, 1, N) # can't observe this\n",
    "    }\n",
    ")\n",
    "\n",
    "\n",
    "dgp_df[\"education\"] = dgp_df[\"data_science_interest\"] + numpy.random.uniform(10, 24, N)\n",
    "dgp_df[\"total_error\"] = dgp_df[\"data_science_interest\"]*100 + dgp_df[\"random_error\"]\n",
    "\n",
    "dgp_df[\"income\"] = m * dgp_df[\"education\"] + b + dgp_df[\"total_error\"]\n",
    "\n",
    "dgp_df.describe()\n",
    "\n",
    "\n",
    "# import matplotlib.pyplot as plt\n",
    "\n",
    "# plt.scatter(\n",
    "#     dgp_df[\"education\"],\n",
    "#     dgp_df[\"income\"],\n",
    "#     s=0.4\n",
    "# )\n",
    "\n",
    "dgp_df[\"income_avg\"] = m * dgp_df[\"education\"] + b\n",
    "\n",
    "# plt.plot(\n",
    "#     dgp_df[\"education\"],\n",
    "#     dgp_df[\"income_avg\"],\n",
    "#     color=\"orange\"\n",
    "# )\n",
    "\n",
    "from scipy import stats\n",
    "\n",
    "m_estimated, b_estimated, r, p, stderr = stats.linregress(dgp_df[\"education\"], dgp_df[\"income\"])\n",
    "\n",
    "print(f\"estimated slope: {m_estimated}\")\n",
    "print(f\"estimated intercept: {b_estimated}\")\n",
    "\n",
    "plt.xlim([10, 24])\n",
    "\n",
    "plt.scatter(\n",
    "    dgp_df[\"education\"],\n",
    "    dgp_df[\"income\"],\n",
    "    s=0.4\n",
    ")\n",
    "\n",
    "plt.plot(\n",
    "    dgp_df[\"education\"],\n",
    "    m_estimated * dgp_df[\"education\"] + b_estimated,\n",
    "    color=\"red\"\n",
    ")\n",
    "\n",
    "plt.plot(\n",
    "    dgp_df[\"education\"],\n",
    "    dgp_df[\"income_avg\"],\n",
    "    color=\"orange\"\n",
    ")"
   ]
  }
 ],
 "metadata": {
  "kernelspec": {
   "display_name": "streamlitenv",
   "language": "python",
   "name": "streamlitenv"
  },
  "language_info": {
   "codemirror_mode": {
    "name": "ipython",
    "version": 3
   },
   "file_extension": ".py",
   "mimetype": "text/x-python",
   "name": "python",
   "nbconvert_exporter": "python",
   "pygments_lexer": "ipython3",
   "version": "3.7.6"
  }
 },
 "nbformat": 4,
 "nbformat_minor": 5
}