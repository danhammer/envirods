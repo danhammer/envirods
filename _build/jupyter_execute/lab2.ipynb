{
 "cells": [
  {
   "cell_type": "markdown",
   "id": "92d3e993",
   "metadata": {},
   "source": [
    "# Lab 2: Plotting distributions\n",
    "\n",
    "This is not going to be easy, especially for students with no experience in Python.  But that's what Thursdays are for! As a reminder, the labs are graded along the following four dimensions:\n",
    "\n",
    "1. **Execution**. There are no errors in executing the Notebook cells.\n",
    "2. **Narrative**. Jupyter Notebooks are half code and half narrative prose. The integrated code should just be an illustration of the text.  Explain what you're doing!\n",
    "3. **Creativity**. You are able to find interesting patterns in the data.\n",
    "4. **Presentation**. Where there are maps and graphs, they are presented nicely.\n",
    "\n",
    "Even though the code will speak for itself for these questions, explain what you're doing in the **Text** cells.\n",
    "\n",
    "1. Using the dataset from Week 2 `EJSCREEN_demo2.csv`, create a table with the number of missing values for every environmental justice score in the dataset (e.g., `P_RESP_D2`).  Comment on why some of the variables may have more missing values than others. \n",
    "\n",
    "2. What is the average population represented by a Census Block Group.  Plot a histogram for all Census Block Groups with populations less than 10,000.  \n",
    "\n",
    "3. How many Census Block Groups are there in California (referring to this particular dataset)?  How does the average score of \"Respiratory Hazard\" in California Block Groups compare to the rest of the country? Does this make sense to you?\n",
    "\n",
    "4. Create single plot with **two** overlaid histograms. Plot the *density* of block groups at different respiratory hazard scores (0-100) for California and for the rest of the United States. (Hint: a parameter `density=True` should be set). The  One for California respiratory hazard.  Make this look nice by adding a legend and making sure that the histograms are not totally opaque. (Hint: set the parameter `alpha` to be less than 1.)  Comment on the skewness of the distributions."
   ]
  }
 ],
 "metadata": {
  "kernelspec": {
   "display_name": "streamlitenv",
   "language": "python",
   "name": "streamlitenv"
  },
  "language_info": {
   "codemirror_mode": {
    "name": "ipython",
    "version": 3
   },
   "file_extension": ".py",
   "mimetype": "text/x-python",
   "name": "python",
   "nbconvert_exporter": "python",
   "pygments_lexer": "ipython3",
   "version": "3.7.6"
  }
 },
 "nbformat": 4,
 "nbformat_minor": 5
}