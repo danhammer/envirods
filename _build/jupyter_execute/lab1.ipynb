{
 "cells": [
  {
   "cell_type": "markdown",
   "id": "222f6277",
   "metadata": {},
   "source": [
    "# Lab 1: Basic operations\n",
    "\n",
    "This is not going to be easy, especially for students with no experience in Python.  But that's what Thursdays are for! As a reminder, the labs are graded along the following four dimensions:\n",
    "\n",
    "1. **Execution**. There are no errors in executing the Notebook cells.\n",
    "2. **Narrative**. Jupyter Notebooks are half code and half narrative prose. The integrated code should just be an illustration of the text.  Explain what you're doing!\n",
    "3. **Creativity**. You are able to find interesting patterns in the data.\n",
    "4. **Presentation**. Where there are maps and graphs, they are presented nicely.\n",
    "\n",
    "Even though the code will speak for itself for these questions, explain what you're doing in the **Text** cells.\n",
    "\n",
    "1. Create a `DataFrame` of random numbers with 100 rows and 4 columns. Name the columns `a`, `b`, `c`, and `d`.\n",
    "2. Create a scatter plot of column a against b. Set the size of each point on the scatterplot based on a new variable `adev`, which records the deviations of `a` from the average value of `a`."
   ]
  }
 ],
 "metadata": {
  "kernelspec": {
   "display_name": "streamlitenv",
   "language": "python",
   "name": "streamlitenv"
  },
  "language_info": {
   "codemirror_mode": {
    "name": "ipython",
    "version": 3
   },
   "file_extension": ".py",
   "mimetype": "text/x-python",
   "name": "python",
   "nbconvert_exporter": "python",
   "pygments_lexer": "ipython3",
   "version": "3.7.6"
  }
 },
 "nbformat": 4,
 "nbformat_minor": 5
}