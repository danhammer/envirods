{
 "cells": [
  {
   "cell_type": "markdown",
   "id": "0fffbe81",
   "metadata": {},
   "source": [
    "### Lab 4: Spatial Data\n",
    "\n",
    "1. Using the farmers' markets dataset from lecture (`farmers-mkts.csv`) find how many markets sell both wine and cheese.  How many sell plants and nuts?  How many sell poultry and eggs?  How many sell honey and flowers?  Create a function that reports the proportion of all farmers markets in the United States that sell these pairs.\n",
    "\n",
    "2. Using the `world` dataset from lecture (located at `geopandas.datasets.get_path('naturalearth_lowres')`), calculate the total population by region in the world.  Create a horizontal bar chart that displays the total population by region.\n",
    "\n",
    "3. Using the `world` dataset from lecture, define a variable for gross domestic product per capita as `world['gdp_per_cap'] = world['gdp_md_est'] / world['pop_est']` and plot a [chloropleth map](https://en.wikipedia.org/wiki/Choropleth_map) that colors each country in the world by its GDP per capita.\n",
    "\n",
    "4. Create a map of coal-fired power plants in India that are currently operating, where each point is colored by its annual carbon emissions.  Create another map that colors the power plants by some measure of efficiency (like capacity over emissions).\n",
    "\n",
    "5. Use the Earthrise news API to plot a map of 1,000 local news stories about wildlands. Use this URL as a reference: `https://api.e7e.dev/news/retrieve?themes=wildlands&limit=2000&daysback=365` but change the parameters.  Where are most of the stories located?  Why are there areas with very few stories?\n",
    "\n"
   ]
  },
  {
   "cell_type": "code",
   "execution_count": 1,
   "id": "bf9e871c",
   "metadata": {},
   "outputs": [],
   "source": [
    "import pandas\n",
    "import geopandas\n",
    "df = pandas.read_csv(\"https://raw.githubusercontent.com/danhammer/envirods/main/data/farmers-mkts.csv\")\n",
    "gdf = geopandas.GeoDataFrame(\n",
    "    df, \n",
    "    geometry=geopandas.points_from_xy(df.x, df.y)\n",
    ")"
   ]
  },
  {
   "cell_type": "code",
   "execution_count": 2,
   "id": "6c05e502",
   "metadata": {},
   "outputs": [
    {
     "data": {
      "text/plain": [
       "Plants    0.366480\n",
       "Nuts      0.170651\n",
       "dtype: float64"
      ]
     },
     "execution_count": 2,
     "metadata": {},
     "output_type": "execute_result"
    }
   ],
   "source": [
    "x = gdf[[\"Plants\", \"Nuts\"]].dropna()\n",
    "results = (x == \"Y\").sum()\n",
    "results / len(x)"
   ]
  }
 ],
 "metadata": {
  "kernelspec": {
   "display_name": "streamlitenv",
   "language": "python",
   "name": "streamlitenv"
  },
  "language_info": {
   "codemirror_mode": {
    "name": "ipython",
    "version": 3
   },
   "file_extension": ".py",
   "mimetype": "text/x-python",
   "name": "python",
   "nbconvert_exporter": "python",
   "pygments_lexer": "ipython3",
   "version": "3.7.6"
  }
 },
 "nbformat": 4,
 "nbformat_minor": 5
}