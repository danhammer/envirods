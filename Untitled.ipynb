{
 "cells": [
  {
   "cell_type": "markdown",
   "id": "9f047b6b",
   "metadata": {},
   "source": [
    "# Week 4: Spatial data and introducing spatial analysis\n",
    "The **objective** of this lecture is to continue to work with spatial data."
   ]
  },
  {
   "cell_type": "code",
   "execution_count": 2,
   "id": "bed94c7e",
   "metadata": {},
   "outputs": [],
   "source": [
    "import pandas\n",
    "import geopandas\n",
    "import matplotlib.pyplot as plt"
   ]
  },
  {
   "cell_type": "code",
   "execution_count": 3,
   "id": "6c8b8fd9",
   "metadata": {},
   "outputs": [],
   "source": [
    "df = pandas.read_csv(\"https://raw.githubusercontent.com/ds-modules/DATA88-SP22/main/Lecture6/farmers-mkts.csv\")"
   ]
  }
 ],
 "metadata": {
  "kernelspec": {
   "display_name": "streamlitenv",
   "language": "python",
   "name": "streamlitenv"
  },
  "language_info": {
   "codemirror_mode": {
    "name": "ipython",
    "version": 3
   },
   "file_extension": ".py",
   "mimetype": "text/x-python",
   "name": "python",
   "nbconvert_exporter": "python",
   "pygments_lexer": "ipython3",
   "version": "3.7.6"
  }
 },
 "nbformat": 4,
 "nbformat_minor": 5
}
