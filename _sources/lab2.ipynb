{
 "cells": [
  {
   "cell_type": "markdown",
   "id": "5352ef8f",
   "metadata": {},
   "source": [
    "# Lab 2: Plotting distributions\n",
    "\n",
    "This is not going to be easy, especially for students with no experience in Python.  But that's what Thursdays are for! A few notes based on the previous Lab submissions.\n",
    "\n",
    "1. Don't leave code snippets commented in the final submission.  It should be a narrative.  You can comment the in-cell documentation; but not the code.\n",
    "2. Ensure that the permissions are set so that \"Anyone with the link\" can view and comment on your Colab notebook.\n",
    "3. Label your responses with the appropriate question number (e.g., Question 1, Q1, etc.).\n",
    "4. Run each cell in the Colab so that the responses are saved. You can just \"Run All\" and then save the notebook.\n",
    "5. I put a lot of emphasis on the responses to \"comment on ...\" or \"analyze this ...\" Be sure to write a quick sentence or two that is both thoughtful and relevant.\n",
    "6. Multiple ways to answer the same question are given a lot of extra credit.\n",
    "\n",
    "Even though the code will speak for itself for these questions, explain what you're doing in the **Text** cells.\n",
    "\n",
    "1. Using the dataset from Week 2 `EJSCREEN_demo2.csv`, create a table with the number of missing values for every environmental justice score in the dataset (e.g., `P_RESP_D2`).  Comment on why some of the variables may have more missing values than others. \n",
    "\n",
    "2. What is the average population represented by a Census Block Group.  Plot a histogram for all Census Block Groups with populations less than 10,000.  \n",
    "\n",
    "3. How many Census Block Groups are there in California (referring to this particular dataset)?  How does the average score of \"Respiratory Hazard\" in California Block Groups compare to the rest of the country? Does this make sense to you?\n",
    "\n",
    "4. Create single plot with **two** overlaid histograms. Plot the *density* of block groups at different respiratory hazard scores (0-100) for California and for the rest of the United States. (Hint: a parameter `density=True` should be set). The  One for California respiratory hazard.  Make this look nice by adding a legend and making sure that the histograms are not totally opaque. (Hint: set the parameter `alpha` to be less than 1.)  Comment on the skewness of the distributions."
   ]
  }
 ],
 "metadata": {
  "kernelspec": {
   "display_name": "streamlitenv",
   "language": "python",
   "name": "streamlitenv"
  },
  "language_info": {
   "codemirror_mode": {
    "name": "ipython",
    "version": 3
   },
   "file_extension": ".py",
   "mimetype": "text/x-python",
   "name": "python",
   "nbconvert_exporter": "python",
   "pygments_lexer": "ipython3",
   "version": "3.7.6"
  }
 },
 "nbformat": 4,
 "nbformat_minor": 5
}
