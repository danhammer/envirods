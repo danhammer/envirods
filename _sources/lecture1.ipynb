{
 "cells": [
  {
   "cell_type": "markdown",
   "metadata": {},
   "source": [
    "# Topic 1: Course overview \n",
    "\n",
    "This course is a practical exploration of environmental data and analysis. The **objective** of this first lecture is to introduce both the course structure and the way we will work with data and code.  We will rely exclusively on Jupyter Notebooks to edit and execute Python code. I encourage you to follow along in lecture in your own Notebook.\n",
    "\n",
    "You can, if you want, [run the Notebook from your locally](https://docs.jupyter.org/en/latest/running.html).  But don't worry about it!!  We will use [Colab](https://colab.research.google.com/) to run our Notebook, our narrative code. Just to ensure you're up and running, execute this code in a live Notebook."
   ]
  },
  {
   "cell_type": "code",
   "execution_count": 1,
   "metadata": {},
   "outputs": [
    {
     "name": "stdout",
     "output_type": "stream",
     "text": [
      "hello world\n"
     ]
    }
   ],
   "source": [
    "print(\"hello world\")"
   ]
  }
 ],
 "metadata": {
  "kernelspec": {
   "display_name": "Python 3",
   "language": "python",
   "name": "python3"
  },
  "language_info": {
   "codemirror_mode": {
    "name": "ipython",
    "version": 3
   },
   "file_extension": ".py",
   "mimetype": "text/x-python",
   "name": "python",
   "nbconvert_exporter": "python",
   "pygments_lexer": "ipython3",
   "version": "3.7.6"
  },
  "widgets": {
   "application/vnd.jupyter.widget-state+json": {
    "state": {},
    "version_major": 2,
    "version_minor": 0
   }
  }
 },
 "nbformat": 4,
 "nbformat_minor": 4
}
