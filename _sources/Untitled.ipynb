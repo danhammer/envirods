{
 "cells": [
  {
   "cell_type": "markdown",
   "id": "8be30fb7",
   "metadata": {},
   "source": [
    "# Week 3: Omitted variable bias and Environmental Justice\n",
    "The **objective** of this lecture is to examine how omitted variables impacts the linear regression."
   ]
  },
  {
   "cell_type": "code",
   "execution_count": 196,
   "id": "51addfb1",
   "metadata": {},
   "outputs": [
    {
     "name": "stdout",
     "output_type": "stream",
     "text": [
      "estimated slope: 3088.023153852626\n",
      "estimated intercept: 9397.714674580966\n"
     ]
    },
    {
     "data": {
      "text/plain": [
       "[<matplotlib.lines.Line2D at 0x169ffe650>]"
      ]
     },
     "execution_count": 196,
     "metadata": {},
     "output_type": "execute_result"
    },
    {
     "data": {
      "image/png": "[encoded data removed]",
      "text/plain": [
       "<Figure size 432x288 with 1 Axes>"
      ]
     },
     "metadata": {
      "needs_background": "light"
     },
     "output_type": "display_data"
    }
   ],
   "source": [
    "import pandas\n",
    "import numpy\n",
    "\n",
    "# N is the number of people in the sample\n",
    "N = 1000\n",
    "\n",
    "# m is the linear slope between education and income \n",
    "# (it is the additional annual income for each year of education)\n",
    "m = 3000\n",
    "\n",
    "# b is the linear intercept\n",
    "# (it is the annual income for someone with 0 years of education)\n",
    "b = 11000\n",
    "\n",
    "dgp_df = pandas.DataFrame(\n",
    "    data = {\n",
    "        \"random_error\": numpy.random.normal(0, 10000, N),\n",
    "        \"data_science_interest\": numpy.random.uniform(-1, 1, N) # can't observe this\n",
    "    }\n",
    ")\n",
    "\n",
    "\n",
    "dgp_df[\"education\"] = dgp_df[\"data_science_interest\"] + numpy.random.uniform(10, 24, N)\n",
    "dgp_df[\"total_error\"] = dgp_df[\"data_science_interest\"]*100 + dgp_df[\"random_error\"]\n",
    "\n",
    "dgp_df[\"income\"] = m * dgp_df[\"education\"] + b + dgp_df[\"total_error\"]\n",
    "\n",
    "dgp_df.describe()\n",
    "\n",
    "\n",
    "# import matplotlib.pyplot as plt\n",
    "\n",
    "# plt.scatter(\n",
    "#     dgp_df[\"education\"],\n",
    "#     dgp_df[\"income\"],\n",
    "#     s=0.4\n",
    "# )\n",
    "\n",
    "dgp_df[\"income_avg\"] = m * dgp_df[\"education\"] + b\n",
    "\n",
    "# plt.plot(\n",
    "#     dgp_df[\"education\"],\n",
    "#     dgp_df[\"income_avg\"],\n",
    "#     color=\"orange\"\n",
    "# )\n",
    "\n",
    "from scipy import stats\n",
    "\n",
    "m_estimated, b_estimated, r, p, stderr = stats.linregress(dgp_df[\"education\"], dgp_df[\"income\"])\n",
    "\n",
    "print(f\"estimated slope: {m_estimated}\")\n",
    "print(f\"estimated intercept: {b_estimated}\")\n",
    "\n",
    "plt.xlim([10, 24])\n",
    "\n",
    "plt.scatter(\n",
    "    dgp_df[\"education\"],\n",
    "    dgp_df[\"income\"],\n",
    "    s=0.4\n",
    ")\n",
    "\n",
    "plt.plot(\n",
    "    dgp_df[\"education\"],\n",
    "    m_estimated * dgp_df[\"education\"] + b_estimated,\n",
    "    color=\"red\"\n",
    ")\n",
    "\n",
    "plt.plot(\n",
    "    dgp_df[\"education\"],\n",
    "    dgp_df[\"income_avg\"],\n",
    "    color=\"orange\"\n",
    ")"
   ]
  }
 ],
 "metadata": {
  "kernelspec": {
   "display_name": "streamlitenv",
   "language": "python",
   "name": "streamlitenv"
  },
  "language_info": {
   "codemirror_mode": {
    "name": "ipython",
    "version": 3
   },
   "file_extension": ".py",
   "mimetype": "text/x-python",
   "name": "python",
   "nbconvert_exporter": "python",
   "pygments_lexer": "ipython3",
   "version": "3.7.6"
  }
 },
 "nbformat": 4,
 "nbformat_minor": 5
}
