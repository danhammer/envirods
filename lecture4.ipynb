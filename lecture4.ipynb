{
 "cells": [
  {
   "cell_type": "markdown",
   "id": "055b4641",
   "metadata": {},
   "source": [
    "# Week 2: Table Manipulations and Environmental Justice\n",
    "The **objective** of this lecture is to apply the `groupby()`, `merge()`, and row-filtering from the previous lecture to an application in environmental justice.\n",
    "\n",
    "## Application\n",
    "The EJSCREEN indices are used to prioritize federal funding in order to mitigate environmental injustice. Here, we examine the rural and urban representation in the prioritization data. Does this reflect the composition of the United States?  \n",
    "\n",
    "First, read in a dataset that associates each U.S. county with a CDC assessment of urban/suburban/rural. The counties are uniquely identified by a Federal Information Processing System (FIPS) Code. "
   ]
  },
  {
   "cell_type": "code",
   "execution_count": 2,
   "id": "e99d5213",
   "metadata": {},
   "outputs": [],
   "source": [
    "import pandas"
   ]
  },
  {
   "cell_type": "code",
   "execution_count": 3,
   "id": "04cc77c6",
   "metadata": {},
   "outputs": [],
   "source": [
    "# Source: https://www.cdc.gov/nchs/data_access/urban_rural.htm#Data_Files_and_Documentation\n",
    "nchs = pandas.read_excel(\"https://github.com/danhammer/envirods/blob/main/data/NCHSURCodes2013.xlsx?raw=true\")\n",
    "nchs = nchs[[\"FIPS code\", \"State Abr.\", \"County name\", \"2013 code\"]]\n",
    "nchs.columns = [\"fips\", \"state\", \"county\", \"classification\"]"
   ]
  },
  {
   "cell_type": "code",
   "execution_count": 4,
   "id": "05c6e858",
   "metadata": {},
   "outputs": [],
   "source": [
    "# Associate each of the classifications to one of three categories, rather \n",
    "# than one of six - just to simplify our quick analysis\n",
    "remap_dict = {\n",
    "    1: \"urban\",\n",
    "    2: \"suburban\",\n",
    "    3: \"suburban\",\n",
    "    4: \"rural\",\n",
    "    5: \"rural\",\n",
    "    6: \"rural\"\n",
    "}\n",
    "\n",
    "# replace the values of the `classification` column based on the key-value \n",
    "# pair in `remap_dict`\n",
    "nchs = nchs.replace({'classification': remap_dict})"
   ]
  },
  {
   "cell_type": "markdown",
   "id": "2bc9169e",
   "metadata": {},
   "source": [
    "Now, read in the EJ indices and merge the dataset with the urban/suburban/rural dataset, so that each of the Census Blocks in the EJSCREEN data now has the CDC categorization."
   ]
  },
  {
   "cell_type": "code",
   "execution_count": 5,
   "id": "0f889734",
   "metadata": {},
   "outputs": [],
   "source": [
    "ejdf = pandas.read_csv(\"https://raw.githubusercontent.com/danhammer/envirods/main/data/EJSCREEN_demo2.csv\")\n",
    "ejdf = ejdf.merge(nchs, how='left', on='fips')"
   ]
  },
  {
   "cell_type": "code",
   "execution_count": 6,
   "id": "a6901f65",
   "metadata": {},
   "outputs": [],
   "source": [
    "# A dictionary to translate opaque variable names to somthing that\n",
    "# is human-readable\n",
    "ejvars_dict = {\n",
    "    'P_LDPNT_D2': 'Lead Paint',\n",
    "    'P_DSLPM_D2': 'Diesel Particulate Matter',\n",
    "    'P_CANCR_D2': 'Air Toxics Cancer Risk',\n",
    "    'P_RESP_D2':  'Respiratory Hazard',\n",
    "    'P_PTRAF_D2': 'Traffic Proximity',\n",
    "    'P_PWDIS_D2': 'Water Discharge',\n",
    "    'P_PNPL_D2':  'National Priority List',\n",
    "    'P_PRMP_D2':  'Risk Management Plan',\n",
    "    'P_PTSDF_D2': 'Treatment Storage and Disposal',\n",
    "    'P_OZONE_D2': 'Ozone Proximity',\n",
    "    'P_PM25_D2':  'PM25'\n",
    "}"
   ]
  },
  {
   "cell_type": "markdown",
   "id": "7d7eb0c3",
   "metadata": {},
   "source": [
    "Each of the variables in the dataset indicates the percentile where that Census Block falls in prioritization. Those census blocks with high percentiles are prioritized for federal funding.  Here, we examine the urban/suburban/rural breakdown of the population living within these high-priority Census Blocks."
   ]
  },
  {
   "cell_type": "code",
   "execution_count": 7,
   "id": "4b3348f2",
   "metadata": {},
   "outputs": [
    {
     "data": {
      "text/plain": [
       "{'rural': 2159353,\n",
       " 'suburban': 8769330,\n",
       " 'urban': 21362290,\n",
       " 'classification': 'P_LDPNT_D2'}"
      ]
     },
     "execution_count": 7,
     "metadata": {},
     "output_type": "execute_result"
    }
   ],
   "source": [
    "v = 'P_LDPNT_D2'\n",
    "temp_df = ejdf[ejdf[v] > 90]\n",
    "temp_df = temp_df.groupby('classification').sum()['ACSTOTPOP']\n",
    "\n",
    "# add back in the classification variable for future reference\n",
    "temp_dict = dict(temp_df)\n",
    "temp_dict['classification'] = v\n",
    "temp_dict"
   ]
  },
  {
   "cell_type": "code",
   "execution_count": 8,
   "id": "ecf66cec",
   "metadata": {},
   "outputs": [
    {
     "data": {
      "text/html": [
       "<div>\n",
       "<style scoped>\n",
       "    .dataframe tbody tr th:only-of-type {\n",
       "        vertical-align: middle;\n",
       "    }\n",
       "\n",
       "    .dataframe tbody tr th {\n",
       "        vertical-align: top;\n",
       "    }\n",
       "\n",
       "    .dataframe thead th {\n",
       "        text-align: right;\n",
       "    }\n",
       "</style>\n",
       "<table border=\"1\" class=\"dataframe\">\n",
       "  <thead>\n",
       "    <tr style=\"text-align: right;\">\n",
       "      <th></th>\n",
       "      <th>rural</th>\n",
       "      <th>suburban</th>\n",
       "      <th>urban</th>\n",
       "      <th>classification</th>\n",
       "    </tr>\n",
       "  </thead>\n",
       "  <tbody>\n",
       "    <tr>\n",
       "      <th>0</th>\n",
       "      <td>2159353</td>\n",
       "      <td>8769330</td>\n",
       "      <td>21362290</td>\n",
       "      <td>P_LDPNT_D2</td>\n",
       "    </tr>\n",
       "    <tr>\n",
       "      <th>1</th>\n",
       "      <td>358539</td>\n",
       "      <td>8593184</td>\n",
       "      <td>23329310</td>\n",
       "      <td>P_DSLPM_D2</td>\n",
       "    </tr>\n",
       "    <tr>\n",
       "      <th>2</th>\n",
       "      <td>2116580</td>\n",
       "      <td>11012158</td>\n",
       "      <td>19152297</td>\n",
       "      <td>P_CANCR_D2</td>\n",
       "    </tr>\n",
       "    <tr>\n",
       "      <th>3</th>\n",
       "      <td>2076324</td>\n",
       "      <td>10708628</td>\n",
       "      <td>19495515</td>\n",
       "      <td>P_RESP_D2</td>\n",
       "    </tr>\n",
       "    <tr>\n",
       "      <th>4</th>\n",
       "      <td>491038</td>\n",
       "      <td>8866869</td>\n",
       "      <td>22933011</td>\n",
       "      <td>P_PTRAF_D2</td>\n",
       "    </tr>\n",
       "    <tr>\n",
       "      <th>5</th>\n",
       "      <td>3829551</td>\n",
       "      <td>11166090</td>\n",
       "      <td>17275490</td>\n",
       "      <td>P_PWDIS_D2</td>\n",
       "    </tr>\n",
       "    <tr>\n",
       "      <th>6</th>\n",
       "      <td>1580116</td>\n",
       "      <td>10192692</td>\n",
       "      <td>20513568</td>\n",
       "      <td>P_PNPL_D2</td>\n",
       "    </tr>\n",
       "    <tr>\n",
       "      <th>7</th>\n",
       "      <td>2231688</td>\n",
       "      <td>11590671</td>\n",
       "      <td>18468443</td>\n",
       "      <td>P_PRMP_D2</td>\n",
       "    </tr>\n",
       "    <tr>\n",
       "      <th>8</th>\n",
       "      <td>426142</td>\n",
       "      <td>6697207</td>\n",
       "      <td>25167032</td>\n",
       "      <td>P_PTSDF_D2</td>\n",
       "    </tr>\n",
       "    <tr>\n",
       "      <th>9</th>\n",
       "      <td>2416940</td>\n",
       "      <td>11462835</td>\n",
       "      <td>18195082</td>\n",
       "      <td>P_OZONE_D2</td>\n",
       "    </tr>\n",
       "    <tr>\n",
       "      <th>10</th>\n",
       "      <td>2146656</td>\n",
       "      <td>11409062</td>\n",
       "      <td>18518578</td>\n",
       "      <td>P_PM25_D2</td>\n",
       "    </tr>\n",
       "  </tbody>\n",
       "</table>\n",
       "</div>"
      ],
      "text/plain": [
       "      rural  suburban     urban classification\n",
       "0   2159353   8769330  21362290     P_LDPNT_D2\n",
       "1    358539   8593184  23329310     P_DSLPM_D2\n",
       "2   2116580  11012158  19152297     P_CANCR_D2\n",
       "3   2076324  10708628  19495515      P_RESP_D2\n",
       "4    491038   8866869  22933011     P_PTRAF_D2\n",
       "5   3829551  11166090  17275490     P_PWDIS_D2\n",
       "6   1580116  10192692  20513568      P_PNPL_D2\n",
       "7   2231688  11590671  18468443      P_PRMP_D2\n",
       "8    426142   6697207  25167032     P_PTSDF_D2\n",
       "9   2416940  11462835  18195082     P_OZONE_D2\n",
       "10  2146656  11409062  18518578      P_PM25_D2"
      ]
     },
     "execution_count": 8,
     "metadata": {},
     "output_type": "execute_result"
    }
   ],
   "source": [
    "# Instead of just displaying the results for one variable, collect \n",
    "# the results for all in a list.\n",
    "res = []\n",
    "\n",
    "# Note that ejvars_dict.keys() is a list of the EJ variable names\n",
    "for v in ejvars_dict.keys():\n",
    "    temp_df = ejdf[ejdf[v] > 90]\n",
    "    temp_df = temp_df.groupby('classification').sum()['ACSTOTPOP']\n",
    "    temp_dict = dict(temp_df)\n",
    "    temp_dict['classification'] = v\n",
    "    res.append(temp_dict)\n",
    "\n",
    "# Create a dataframe of the results\n",
    "graphing_df = pandas.DataFrame(res)\n",
    "graphing_df"
   ]
  },
  {
   "cell_type": "markdown",
   "id": "3b4d3514",
   "metadata": {},
   "source": [
    "We now have a dataframe with the total population in rural, suburban, and urban areas that would be prioritized for EJ funding for each of the 11 indicators.  Now, convert this into a percentage, noting that we can't just divide by the total population of the United States across all of these cell values due to missing values - and the fact that those missing values aren't uniformly distributed across the indicators."
   ]
  },
  {
   "cell_type": "code",
   "execution_count": 10,
   "id": "8576a63b",
   "metadata": {},
   "outputs": [
    {
     "data": {
      "text/html": [
       "<div>\n",
       "<style scoped>\n",
       "    .dataframe tbody tr th:only-of-type {\n",
       "        vertical-align: middle;\n",
       "    }\n",
       "\n",
       "    .dataframe tbody tr th {\n",
       "        vertical-align: top;\n",
       "    }\n",
       "\n",
       "    .dataframe thead th {\n",
       "        text-align: right;\n",
       "    }\n",
       "</style>\n",
       "<table border=\"1\" class=\"dataframe\">\n",
       "  <thead>\n",
       "    <tr style=\"text-align: right;\">\n",
       "      <th></th>\n",
       "      <th>rural</th>\n",
       "      <th>suburban</th>\n",
       "      <th>urban</th>\n",
       "      <th>classification</th>\n",
       "      <th>indicators</th>\n",
       "    </tr>\n",
       "  </thead>\n",
       "  <tbody>\n",
       "    <tr>\n",
       "      <th>0</th>\n",
       "      <td>0.066872</td>\n",
       "      <td>0.271572</td>\n",
       "      <td>0.661556</td>\n",
       "      <td>P_LDPNT_D2</td>\n",
       "      <td>Lead Paint</td>\n",
       "    </tr>\n",
       "    <tr>\n",
       "      <th>1</th>\n",
       "      <td>0.011107</td>\n",
       "      <td>0.266199</td>\n",
       "      <td>0.722694</td>\n",
       "      <td>P_DSLPM_D2</td>\n",
       "      <td>Diesel Particulate Matter</td>\n",
       "    </tr>\n",
       "    <tr>\n",
       "      <th>2</th>\n",
       "      <td>0.065567</td>\n",
       "      <td>0.341134</td>\n",
       "      <td>0.593299</td>\n",
       "      <td>P_CANCR_D2</td>\n",
       "      <td>Air Toxics Cancer Risk</td>\n",
       "    </tr>\n",
       "    <tr>\n",
       "      <th>3</th>\n",
       "      <td>0.064321</td>\n",
       "      <td>0.331737</td>\n",
       "      <td>0.603942</td>\n",
       "      <td>P_RESP_D2</td>\n",
       "      <td>Respiratory Hazard</td>\n",
       "    </tr>\n",
       "    <tr>\n",
       "      <th>4</th>\n",
       "      <td>0.015207</td>\n",
       "      <td>0.274593</td>\n",
       "      <td>0.710200</td>\n",
       "      <td>P_PTRAF_D2</td>\n",
       "      <td>Traffic Proximity</td>\n",
       "    </tr>\n",
       "    <tr>\n",
       "      <th>5</th>\n",
       "      <td>0.118668</td>\n",
       "      <td>0.346009</td>\n",
       "      <td>0.535323</td>\n",
       "      <td>P_PWDIS_D2</td>\n",
       "      <td>Water Discharge</td>\n",
       "    </tr>\n",
       "    <tr>\n",
       "      <th>6</th>\n",
       "      <td>0.048941</td>\n",
       "      <td>0.315696</td>\n",
       "      <td>0.635363</td>\n",
       "      <td>P_PNPL_D2</td>\n",
       "      <td>National Priority List</td>\n",
       "    </tr>\n",
       "    <tr>\n",
       "      <th>7</th>\n",
       "      <td>0.069112</td>\n",
       "      <td>0.358947</td>\n",
       "      <td>0.571941</td>\n",
       "      <td>P_PRMP_D2</td>\n",
       "      <td>Risk Management Plan</td>\n",
       "    </tr>\n",
       "    <tr>\n",
       "      <th>8</th>\n",
       "      <td>0.013197</td>\n",
       "      <td>0.207406</td>\n",
       "      <td>0.779397</td>\n",
       "      <td>P_PTSDF_D2</td>\n",
       "      <td>Treatment Storage and Disposal</td>\n",
       "    </tr>\n",
       "    <tr>\n",
       "      <th>9</th>\n",
       "      <td>0.075353</td>\n",
       "      <td>0.357378</td>\n",
       "      <td>0.567269</td>\n",
       "      <td>P_OZONE_D2</td>\n",
       "      <td>Ozone Proximity</td>\n",
       "    </tr>\n",
       "    <tr>\n",
       "      <th>10</th>\n",
       "      <td>0.066928</td>\n",
       "      <td>0.355707</td>\n",
       "      <td>0.577365</td>\n",
       "      <td>P_PM25_D2</td>\n",
       "      <td>PM25</td>\n",
       "    </tr>\n",
       "  </tbody>\n",
       "</table>\n",
       "</div>"
      ],
      "text/plain": [
       "       rural  suburban     urban classification  \\\n",
       "0   0.066872  0.271572  0.661556     P_LDPNT_D2   \n",
       "1   0.011107  0.266199  0.722694     P_DSLPM_D2   \n",
       "2   0.065567  0.341134  0.593299     P_CANCR_D2   \n",
       "3   0.064321  0.331737  0.603942      P_RESP_D2   \n",
       "4   0.015207  0.274593  0.710200     P_PTRAF_D2   \n",
       "5   0.118668  0.346009  0.535323     P_PWDIS_D2   \n",
       "6   0.048941  0.315696  0.635363      P_PNPL_D2   \n",
       "7   0.069112  0.358947  0.571941      P_PRMP_D2   \n",
       "8   0.013197  0.207406  0.779397     P_PTSDF_D2   \n",
       "9   0.075353  0.357378  0.567269     P_OZONE_D2   \n",
       "10  0.066928  0.355707  0.577365      P_PM25_D2   \n",
       "\n",
       "                        indicators  \n",
       "0                       Lead Paint  \n",
       "1        Diesel Particulate Matter  \n",
       "2           Air Toxics Cancer Risk  \n",
       "3               Respiratory Hazard  \n",
       "4                Traffic Proximity  \n",
       "5                  Water Discharge  \n",
       "6           National Priority List  \n",
       "7             Risk Management Plan  \n",
       "8   Treatment Storage and Disposal  \n",
       "9                  Ozone Proximity  \n",
       "10                            PM25  "
      ]
     },
     "execution_count": 10,
     "metadata": {},
     "output_type": "execute_result"
    }
   ],
   "source": [
    "pop_df = graphing_df[[\"rural\", \"suburban\", \"urban\"]]\n",
    "\n",
    "# first sum over the columns, horizontally\n",
    "total_by_class = pop_df.sum(axis=\"columns\")\n",
    "\n",
    "# then divide, within columns, vertically\n",
    "pop_df = pop_df.div(total_by_class, axis=\"index\")\n",
    "\n",
    "# add back the classification\n",
    "pop_df[\"classification\"] = graphing_df[\"classification\"]\n",
    "\n",
    "# name it appropriately\n",
    "pop_df[\"indicators\"] = pop_df.classification.replace(ejvars_dict)\n",
    "\n",
    "pop_df"
   ]
  },
  {
   "cell_type": "code",
   "execution_count": 11,
   "id": "edeb11a5",
   "metadata": {},
   "outputs": [
    {
     "data": {
      "text/plain": [
       "<AxesSubplot:ylabel='indicators'>"
      ]
     },
     "execution_count": 11,
     "metadata": {},
     "output_type": "execute_result"
    },
    {
     "data": {
      "image/png": "[encoded data removed]",
      "text/plain": [
       "<Figure size 432x288 with 1 Axes>"
      ]
     },
     "metadata": {
      "needs_background": "light"
     },
     "output_type": "display_data"
    }
   ],
   "source": [
    "# Plot the results. \n",
    "pop_df = pop_df.set_index(pop_df.indicators)\n",
    "\n",
    "pop_df.plot(\n",
    "    kind=\"barh\", \n",
    "    stacked=True\n",
    ")"
   ]
  },
  {
   "cell_type": "code",
   "execution_count": 12,
   "id": "7fec99a9",
   "metadata": {},
   "outputs": [
    {
     "data": {
      "text/plain": [
       "<AxesSubplot:ylabel='indicators'>"
      ]
     },
     "execution_count": 12,
     "metadata": {},
     "output_type": "execute_result"
    },
    {
     "data": {
      "image/png": "[encoded data removed]",
      "text/plain": [
       "<Figure size 432x288 with 1 Axes>"
      ]
     },
     "metadata": {
      "needs_background": "light"
     },
     "output_type": "display_data"
    }
   ],
   "source": [
    "pop_df.sort_values(by=['rural']).plot(\n",
    "    kind=\"barh\", \n",
    "    stacked=True\n",
    ")"
   ]
  },
  {
   "cell_type": "markdown",
   "id": "6ae157d0",
   "metadata": {},
   "source": [
    "Does this plot reflect the composition rest of the country?  **No.**"
   ]
  },
  {
   "cell_type": "code",
   "execution_count": 14,
   "id": "777b9d85",
   "metadata": {},
   "outputs": [
    {
     "data": {
      "text/plain": [
       "classification\n",
       "rural       0.231544\n",
       "suburban    0.453165\n",
       "urban       0.304910\n",
       "Name: ACSTOTPOP, dtype: float64"
      ]
     },
     "execution_count": 14,
     "metadata": {},
     "output_type": "execute_result"
    }
   ],
   "source": [
    "ejdf.groupby(\"classification\").sum()[\"ACSTOTPOP\"] / sum(ejdf[\"ACSTOTPOP\"])"
   ]
  },
  {
   "cell_type": "markdown",
   "id": "3c81c52f",
   "metadata": {},
   "source": [
    "Should it?  I don't know.  But this very apparent mismatch is not being adequately addressed at the highest levels of government, as they discuss how to identify \"underserved communities.\""
   ]
  },
  {
   "cell_type": "code",
   "execution_count": 51,
   "id": "cca51ea3",
   "metadata": {},
   "outputs": [
    {
     "data": {
      "image/png": "[encoded data removed]",
      "text/plain": [
       "<Figure size 432x288 with 1 Axes>"
      ]
     },
     "metadata": {
      "needs_background": "light"
     },
     "output_type": "display_data"
    },
    {
     "name": "stdout",
     "output_type": "stream",
     "text": [
      "         P_LDPNT_D2    P_DSLPM_D2    P_CANCR_D2     P_RESP_D2    P_PTRAF_D2  \\\n",
      "count  23212.000000  23176.000000  23176.000000  23176.000000  22778.000000   \n",
      "mean      63.997477     63.675654     63.914887     63.693009     61.928700   \n",
      "std       27.108648     23.043117     24.156415     25.651955     33.849999   \n",
      "min        0.010049      0.266462      0.326132      0.156210      0.015279   \n",
      "25%       44.326019     47.497393     47.018694     44.866301     29.270932   \n",
      "50%       69.090515     67.256184     67.650239     68.556449     75.258019   \n",
      "75%       86.867057     82.417747     84.130829     85.484945     91.693704   \n",
      "max       99.990475     99.966286     99.922428     99.995233    100.000000   \n",
      "\n",
      "         P_PWDIS_D2     P_PNPL_D2     P_PRMP_D2    P_PTSDF_D2    P_OZONE_D2  \\\n",
      "count  11040.000000  23212.000000  23212.000000  23212.000000  23195.000000   \n",
      "mean      64.602714     64.148103     63.653834     61.727055     64.961666   \n",
      "std       35.120342     25.776096     26.673066     33.456931     24.001246   \n",
      "min        0.087881      0.004498      0.067458      0.378307      0.206799   \n",
      "25%       28.001850     43.853725     44.473384     27.554129     48.431615   \n",
      "50%       81.023982     70.077095     69.092845     75.490948     67.842266   \n",
      "75%       93.978066     86.069890     86.124777     91.078534     85.390495   \n",
      "max       99.998835    100.000000    100.000000     99.532819    100.000000   \n",
      "\n",
      "          P_PM25_D2          fips     ACSTOTPOP  \n",
      "count  23195.000000  23212.000000  23212.000000  \n",
      "mean      64.696277   6054.971739   1686.574186  \n",
      "std       25.290213     27.032579   1089.307728  \n",
      "min        0.190385   6001.000000      0.000000  \n",
      "25%       46.552506   6037.000000   1026.000000  \n",
      "50%       68.798945   6059.000000   1472.000000  \n",
      "75%       86.660872   6073.000000   2079.000000  \n",
      "max       99.996449   6115.000000  38932.000000  \n"
     ]
    },
    {
     "data": {
      "image/png": "[encoded data removed]",
      "text/plain": [
       "<Figure size 432x288 with 1 Axes>"
      ]
     },
     "metadata": {
      "needs_background": "light"
     },
     "output_type": "display_data"
    }
   ],
   "source": [
    "220000 - ejdf.describe()[0:1]\n",
    "ejdf.isnull().sum()\n",
    "ca = ejdf[ejdf.state == \"CA\"]\n",
    "rest_of_usa = ejdf[ejdf.state != \"CA\"]\n",
    "\n",
    "import matplotlib.pyplot as plt\n",
    "# plotting histograms\n",
    "\n",
    "plt.hist(\n",
    "    rest_of_usa['P_RESP_D2'], \n",
    "    label=\"Rest of US\",\n",
    "    density=True,\n",
    "    bins=30,\n",
    "    alpha = 0.5\n",
    ")\n",
    "plt.hist(\n",
    "    ca['P_RESP_D2'], \n",
    "    label='California',\n",
    "    density=True,\n",
    "    bins=30,\n",
    "    alpha = 0.5\n",
    ")\n",
    "  \n",
    "plt.legend(loc='upper left')\n",
    "\n",
    "plt.show()\n",
    "\n",
    "print(ca.describe())\n",
    "\n",
    "plt.hist(\n",
    "    ejdf['ACSTOTPOP'], \n",
    "    bins=30,\n",
    "    alpha = 0.5,\n",
    "    range=[0, 10000]\n",
    ")\n",
    "\n",
    "plt.show()\n",
    "  \n"
   ]
  },
  {
   "cell_type": "markdown",
   "id": "d7df179d",
   "metadata": {},
   "source": [
    "# Lab 2\n",
    "\n",
    "1. Using the dataset from Week 2 `EJSCREEN_demo2.csv`, create a table with the number of missing values for every environmental justice score in the dataset (e.g., `P_RESP_D2`).  Comment on why some of the variables may have more missing values than others. \n",
    "\n",
    "2. What is the average population represented by a Census Block Group.  Plot a histogram for all Census Block Groups with populations less than 10,000.  \n",
    "\n",
    "3. How many Census Block Groups are there in California (referring to this particular dataset)?  How does the average score of \"Respiratory Hazard\" in California Block Groups compare to the rest of the country? Does this make sense to you?\n",
    "\n",
    "4. Create single plot with **two** overlaid histograms. Plot the *density* of block groups at different respiratory hazard scores (0-100) for California and for the rest of the United States. (Hint: a parameter `density=True` should be set). The  One for California respiratory hazard.  Make this look nice by adding a legend and making sure that the histograms are not totally opaque. (Hint: set the parameter `alpha` to be less than 1.)  Comment on the skewness of the distributions."
   ]
  }
 ],
 "metadata": {
  "kernelspec": {
   "display_name": "streamlitenv",
   "language": "python",
   "name": "streamlitenv"
  },
  "language_info": {
   "codemirror_mode": {
    "name": "ipython",
    "version": 3
   },
   "file_extension": ".py",
   "mimetype": "text/x-python",
   "name": "python",
   "nbconvert_exporter": "python",
   "pygments_lexer": "ipython3",
   "version": "3.7.6"
  }
 },
 "nbformat": 4,
 "nbformat_minor": 5
}
