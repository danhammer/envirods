{
 "cells": [
  {
   "cell_type": "markdown",
   "id": "03993749",
   "metadata": {},
   "source": [
    "# Week 1: Basic operations and Environmental Justice\n",
    "The **objectives** of this lecture are to introduce basic operations in Python; build dataframes from scratch; import libraries and data; and to start to plot data.  The (very curtailed) Lab for this week will ask you to create a `DataFrame` from scratch and plot variables against each other.  _The second lab will ask for more real-world applied work in environmental justice._\n",
    "\n",
    "## Basic operations\n",
    "First import some libraries that we will use later through executing the following code:"
   ]
  },
  {
   "cell_type": "code",
   "execution_count": null,
   "id": "51826e9d",
   "metadata": {},
   "outputs": [],
   "source": []
  }
 ],
 "metadata": {
  "kernelspec": {
   "display_name": "streamlitenv",
   "language": "python",
   "name": "streamlitenv"
  },
  "language_info": {
   "codemirror_mode": {
    "name": "ipython",
    "version": 3
   },
   "file_extension": ".py",
   "mimetype": "text/x-python",
   "name": "python",
   "nbconvert_exporter": "python",
   "pygments_lexer": "ipython3",
   "version": "3.7.6"
  }
 },
 "nbformat": 4,
 "nbformat_minor": 5
}
